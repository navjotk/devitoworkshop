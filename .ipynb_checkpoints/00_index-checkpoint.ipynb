{
 "cells": [
  {
   "cell_type": "markdown",
   "metadata": {},
   "source": [
    "# Optimised symbolic finite difference computation with Devito"
   ]
  },
  {
   "cell_type": "markdown",
   "metadata": {
    "collapsed": true
   },
   "source": [
    "Welcome to the interactive hands-on tutorial for [Devito](http://www.devitoproject.org). Devito is a domain-specific language (DSL) and code generation framework for the design of highly optimised finite difference kernels, and was primarily designed for use in seismic inversion methods. Devito utilises SymPy to allow the definition of matrix-free finite difference operators from high-level symbolic equations and generates optimised and automatically tuned code specific to a given target architecture.\n",
    "\n",
    "This hands-on tutorial is intended to give you an initial flavour of the Devito framework and the power of symbolic computation. We will demonstrate how quickly explicit finite difference operators can be created from only a few lines of Python code, and how we can use them to implement complex imaging algorithms in very little time (literally!). "
   ]
  },
  {
   "cell_type": "markdown",
   "metadata": {},
   "source": [
    "## Installation and setup\n",
    "\n",
    "If you're seeing this on the projector, navigate to the following url to access the Azure notebooks project:\n",
    "\n",
    "### TODO Add URL\n",
    "\n",
    "Once here, clone the project to create your personal copy. Next, click on TODO to start the notebook container. \n",
    "\n",
    "Now you should see a set of Jupyter notebooks, inlcuding this one called ```00_index.ipynb```. Open your copy of this notebook and proceed further. "
   ]
  },
  {
   "cell_type": "code",
   "execution_count": null,
   "metadata": {},
   "outputs": [],
   "source": [
    "!pip install -y -r requirements.txt"
   ]
  },
  {
   "cell_type": "markdown",
   "metadata": {},
   "source": [
    "Once the above setup has finished, we should run a quick sanity check that we have everything that we need. The following cell should simply complete without any errors."
   ]
  },
  {
   "cell_type": "code",
   "execution_count": 1,
   "metadata": {},
   "outputs": [],
   "source": [
    "from devito import *\n",
    "from examples.seismic import Model"
   ]
  },
  {
   "cell_type": "markdown",
   "metadata": {},
   "source": [
    "For one section of this tutorial we will have a quick look at the stencil compiler YASK. To verify YASK works smoothly you can run:"
   ]
  },
  {
   "cell_type": "code",
   "execution_count": 2,
   "metadata": {},
   "outputs": [
    {
     "ename": "ModuleNotFoundError",
     "evalue": "No module named 'yask'",
     "output_type": "error",
     "traceback": [
      "\u001b[0;31m---------------------------------------------------------------------------\u001b[0m",
      "\u001b[0;31mModuleNotFoundError\u001b[0m                       Traceback (most recent call last)",
      "\u001b[0;32m<ipython-input-2-fcdade04d042>\u001b[0m in \u001b[0;36m<module>\u001b[0;34m\u001b[0m\n\u001b[0;32m----> 1\u001b[0;31m \u001b[0;32mimport\u001b[0m \u001b[0myask\u001b[0m\u001b[0;34m\u001b[0m\u001b[0;34m\u001b[0m\u001b[0m\n\u001b[0m",
      "\u001b[0;31mModuleNotFoundError\u001b[0m: No module named 'yask'"
     ]
    }
   ],
   "source": [
    "import yask"
   ]
  },
  {
   "cell_type": "markdown",
   "metadata": {
    "collapsed": true
   },
   "source": [
    "## Instructors and helpers\n",
    "\n",
    "This tutorial will be given by:\n",
    "\n",
    "* **Navjot Kukreja** \n",
    "* **Lucas Cavalcante**\n",
    "TODO"
   ]
  },
  {
   "cell_type": "markdown",
   "metadata": {},
   "source": [
    "## Learning objectives\n",
    "\n",
    "* How to use [SymPy](http://www.sympy.org) and [Devito](http://www.devitoproject.org) to create simple finite difference expressions from governing equations\n",
    "* Creating Devito operators to perform highly optimized stencil computations from the symbolic kernel definitions\n",
    "* Create basic seismic modelling operator to model wave propagation for a seismic survey\n",
    "* Implement a functional FWI algorithm usign high-level components from [Devito](http://www.devitoproject.org) and `scipy.optimize`\n",
    "* Gain an overview of the various performance optimization techniques used in Devito operators\n",
    "\n",
    "TODO"
   ]
  },
  {
   "cell_type": "markdown",
   "metadata": {},
   "source": [
    "## Outline\n",
    "\n",
    "TODO\n",
    "\n",
    "* [Session 1: **Introduction to Devito**](01_introduction.ipynb)\n",
    "  * Functions and derivatives **[5min]**\n",
    "  * Exercise: A linear convection operator **[10min]**\n",
    "  * Second derivatives and high-order stencils **[5min]**\n",
    "  * Exercise 2: Making a wave! **[10min]**\n",
    "\n",
    "* Session 2: **Seismic Imaging**\n",
    "    * [Full Waveform Inversion (FWI) with Devito](02a_fwi.ipynb)\n",
    "    * [Integration with Scipy.optimize](02b_scipy_optimize.ipynb)\n",
    "    * [Distributed processing with Dask](02c_dask.ipynb)\n",
    "    * [Advanced imaging with Skimage](02d_skimage_tv.ipynb)\n",
    " \n",
    "\n",
    "* Session 3: [**Performance Optimization and Analysis**](03_performance.ipynb)\n",
    "    * Introduction to performance optimization in Devito **[2min]**\n",
    "    * Setup for shared-memory parallelism **[5min]**\n",
    "    * Devito Symbolic Engine (DSE) **[5min]**\n",
    "    * Devito Loop Engine (DLE) **[5min]**\n",
    "    * Exercise 4: performance analysis of a TTI forward operator **[8min]**\n",
    "    * A sneak peek at the YASK backend **[5min]**"
   ]
  },
  {
   "cell_type": "markdown",
   "metadata": {},
   "source": [
    "### Bonus Material and further reading\n",
    "\n",
    "TODO\n",
    "\n",
    "* [Opesci project webpage](http://www.opesci.org/)\n",
    "  * [Devito documentation](http://www.opesci.org/devito/)\n",
    "* More detailed [introductory tutorials](http://www.opesci.org/devito/tutorials.html), covering the following topics:\n",
    "  * Introduction to Devito with CFD\n",
    "  * Introdcution to seismic imaging\n",
    "\n",
    "### References\n",
    "\n",
    "* M. Lange, N. Kukreja, F. Luporini, M. Louboutin, C. Yount, J. Hückelheim and G. Gorman. Optimised finite difference computation from symbolic equations. Accepted for publication in Proceedings of the 15th Python in Science Conference, 2017. [[doi:10.25080/shinma-7f4c6e7-00d](http://conference.scipy.org/proceedings/scipy2017/michael_lange.html)] [[arxiv](http://arxiv.org/abs/1707.03776)]\n",
    "\n",
    "* M. Louboutin, M. Lange, N. Kukreja, F. Herrmann, and G. Gorman. _Performance\n",
    "prediction of finite-difference solvers for different computer architectures_. Accepted\n",
    "for publication in Computers & Geosciences, 2016, [doi:10.1016/j.cageo.2017.04.014](http://www.sciencedirect.com/science/article/pii/S0098300416304034)\n"
   ]
  },
  {
   "cell_type": "markdown",
   "metadata": {},
   "source": [
    "<sup>This notebook is part of the tutorial \"Optimised Symbolic Finite Difference Computation with Devito\" presented at University of Sao Paulo April 2019.</sup>"
   ]
  },
  {
   "cell_type": "code",
   "execution_count": null,
   "metadata": {},
   "outputs": [],
   "source": []
  }
 ],
 "metadata": {
  "kernelspec": {
   "display_name": "Python 3",
   "language": "python",
   "name": "python3"
  },
  "language_info": {
   "codemirror_mode": {
    "name": "ipython",
    "version": 3
   },
   "file_extension": ".py",
   "mimetype": "text/x-python",
   "name": "python",
   "nbconvert_exporter": "python",
   "pygments_lexer": "ipython3",
   "version": "3.6.8"
  },
  "widgets": {
   "state": {},
   "version": "1.1.2"
  }
 },
 "nbformat": 4,
 "nbformat_minor": 2
}
