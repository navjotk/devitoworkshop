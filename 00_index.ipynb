{
 "cells": [
  {
   "cell_type": "markdown",
   "metadata": {},
   "source": [
    "# Optimised symbolic finite difference computation with Devito"
   ]
  },
  {
   "cell_type": "markdown",
   "metadata": {
    "collapsed": true
   },
   "source": [
    "Welcome to the interactive hands-on tutorial for [Devito](http://www.devitoproject.org). Devito is a domain-specific language (DSL) and code generation framework for the design of highly optimised finite difference kernels, and was primarily designed for use in seismic inversion methods. Devito utilises SymPy to allow the definition of matrix-free finite difference operators from high-level symbolic equations and generates optimised and automatically tuned code specific to a given target architecture.\n",
    "\n",
    "This hands-on tutorial is intended to give you an initial flavour of the Devito framework and the power of symbolic computation. We will demonstrate how quickly explicit finite difference operators can be created from only a few lines of Python code, and how we can use them to implement complex imaging algorithms in very little time (literally!). "
   ]
  },
  {
   "cell_type": "markdown",
   "metadata": {},
   "source": [
    "## Installation and setup\n",
    "\n",
    "If you're seeing this on the projector, navigate to the following url to access the Azure notebooks project:\n",
    "\n",
    "### TODO Add URL\n",
    "\n",
    "Once here, clone the project to create your personal copy. Next, click on TODO to start the notebook container. \n",
    "\n",
    "Now you should see a set of Jupyter notebooks, inlcuding this one called ```00_index.ipynb```. Open your copy of this notebook and proceed further. "
   ]
  },
  {
   "cell_type": "code",
   "execution_count": 5,
   "metadata": {},
   "outputs": [
    {
     "name": "stdout",
     "output_type": "stream",
     "text": [
      "Collecting git+https://github.com/inducer/cgen (from -r requirements.txt (line 1))\n",
      "  Cloning https://github.com/inducer/cgen to /tmp/pip-req-build-5ydpe78j\n",
      "Requirement already satisfied (use --upgrade to upgrade): cgen==2018.1 from git+https://github.com/inducer/cgen in /venv/lib/python3.6/site-packages (from -r requirements.txt (line 1))\n",
      "Collecting git+https://github.com/inducer/codepy (from -r requirements.txt (line 2))\n",
      "  Cloning https://github.com/inducer/codepy to /tmp/pip-req-build-mpn21s66\n",
      "Requirement already satisfied (use --upgrade to upgrade): codepy==2017.2.2 from git+https://github.com/inducer/codepy in /venv/lib/python3.6/site-packages (from -r requirements.txt (line 2))\n",
      "Collecting git+https://github.com/opesci/devito (from -r requirements.txt (line 3))\n",
      "  Cloning https://github.com/opesci/devito to /tmp/pip-req-build-axo_sfyj\n",
      "Requirement already satisfied: pytools>=2015.1.2 in /venv/lib/python3.6/site-packages (from cgen==2018.1->-r requirements.txt (line 1)) (2019.1)\n",
      "Requirement already satisfied: numpy>=1.6 in /venv/lib/python3.6/site-packages (from cgen==2018.1->-r requirements.txt (line 1)) (1.16.2)\n",
      "Requirement already satisfied: appdirs>=1.4.0 in /venv/lib/python3.6/site-packages (from codepy==2017.2.2->-r requirements.txt (line 2)) (1.4.3)\n",
      "Requirement already satisfied: six in /venv/lib/python3.6/site-packages (from codepy==2017.2.2->-r requirements.txt (line 2)) (1.12.0)\n",
      "Requirement already satisfied: sympy>=1.4 in /venv/lib/python3.6/site-packages (from devito==3.4+873.gc57eec36->-r requirements.txt (line 3)) (1.4)\n",
      "Requirement already satisfied: scipy in /venv/lib/python3.6/site-packages (from devito==3.4+873.gc57eec36->-r requirements.txt (line 3)) (1.2.1)\n",
      "Requirement already satisfied: pytest-runner in /venv/lib/python3.6/site-packages (from devito==3.4+873.gc57eec36->-r requirements.txt (line 3)) (4.4)\n",
      "Requirement already satisfied: flake8>=2.1.0 in /venv/lib/python3.6/site-packages (from devito==3.4+873.gc57eec36->-r requirements.txt (line 3)) (3.7.7)\n",
      "Requirement already satisfied: jedi in /venv/lib/python3.6/site-packages (from devito==3.4+873.gc57eec36->-r requirements.txt (line 3)) (0.13.3)\n",
      "Requirement already satisfied: nbval in /venv/lib/python3.6/site-packages (from devito==3.4+873.gc57eec36->-r requirements.txt (line 3)) (0.9.1)\n",
      "Requirement already satisfied: cached-property in /venv/lib/python3.6/site-packages (from devito==3.4+873.gc57eec36->-r requirements.txt (line 3)) (1.5.1)\n",
      "Requirement already satisfied: psutil>=5.1.0 in /venv/lib/python3.6/site-packages (from devito==3.4+873.gc57eec36->-r requirements.txt (line 3)) (5.6.1)\n",
      "Requirement already satisfied: py-cpuinfo in /venv/lib/python3.6/site-packages (from devito==3.4+873.gc57eec36->-r requirements.txt (line 3)) (5.0.0)\n",
      "Requirement already satisfied: scikit-image in /venv/lib/python3.6/site-packages (from devito==3.4+873.gc57eec36->-r requirements.txt (line 3)) (0.15.0)\n",
      "Requirement already satisfied: click in /venv/lib/python3.6/site-packages (from devito==3.4+873.gc57eec36->-r requirements.txt (line 3)) (7.0)\n",
      "Requirement already satisfied: codecov in /venv/lib/python3.6/site-packages (from devito==3.4+873.gc57eec36->-r requirements.txt (line 3)) (2.0.15)\n",
      "Requirement already satisfied: pytest-cov in /venv/lib/python3.6/site-packages (from devito==3.4+873.gc57eec36->-r requirements.txt (line 3)) (2.6.1)\n",
      "Requirement already satisfied: multidict in /venv/lib/python3.6/site-packages (from devito==3.4+873.gc57eec36->-r requirements.txt (line 3)) (4.5.2)\n",
      "Requirement already satisfied: frozendict in /venv/lib/python3.6/site-packages (from devito==3.4+873.gc57eec36->-r requirements.txt (line 3)) (1.2)\n",
      "Requirement already satisfied: anytree>=2.4.3 in /venv/lib/python3.6/site-packages (from devito==3.4+873.gc57eec36->-r requirements.txt (line 3)) (2.6.0)\n",
      "Requirement already satisfied: pyrevolve==1.0.2 in /venv/lib/python3.6/site-packages (from devito==3.4+873.gc57eec36->-r requirements.txt (line 3)) (1.0.2)\n",
      "Requirement already satisfied: distributed>=1.21.8 in /venv/lib/python3.6/site-packages (from devito==3.4+873.gc57eec36->-r requirements.txt (line 3)) (1.27.0)\n",
      "Requirement already satisfied: decorator>=3.2.0 in /venv/lib/python3.6/site-packages (from pytools>=2015.1.2->cgen==2018.1->-r requirements.txt (line 1)) (4.4.0)\n",
      "Requirement already satisfied: mpmath>=0.19 in /venv/lib/python3.6/site-packages (from sympy>=1.4->devito==3.4+873.gc57eec36->-r requirements.txt (line 3)) (1.1.0)\n",
      "Requirement already satisfied: pyflakes<2.2.0,>=2.1.0 in /venv/lib/python3.6/site-packages (from flake8>=2.1.0->devito==3.4+873.gc57eec36->-r requirements.txt (line 3)) (2.1.1)\n",
      "Requirement already satisfied: pycodestyle<2.6.0,>=2.5.0 in /venv/lib/python3.6/site-packages (from flake8>=2.1.0->devito==3.4+873.gc57eec36->-r requirements.txt (line 3)) (2.5.0)\n",
      "Requirement already satisfied: mccabe<0.7.0,>=0.6.0 in /venv/lib/python3.6/site-packages (from flake8>=2.1.0->devito==3.4+873.gc57eec36->-r requirements.txt (line 3)) (0.6.1)\n",
      "Requirement already satisfied: entrypoints<0.4.0,>=0.3.0 in /venv/lib/python3.6/site-packages (from flake8>=2.1.0->devito==3.4+873.gc57eec36->-r requirements.txt (line 3)) (0.3)\n",
      "Requirement already satisfied: parso>=0.3.0 in /venv/lib/python3.6/site-packages (from jedi->devito==3.4+873.gc57eec36->-r requirements.txt (line 3)) (0.4.0)\n",
      "Requirement already satisfied: ipykernel in /venv/lib/python3.6/site-packages (from nbval->devito==3.4+873.gc57eec36->-r requirements.txt (line 3)) (5.1.0)\n",
      "Requirement already satisfied: coverage in /venv/lib/python3.6/site-packages (from nbval->devito==3.4+873.gc57eec36->-r requirements.txt (line 3)) (4.5.3)\n",
      "Requirement already satisfied: pytest>=2.8 in /venv/lib/python3.6/site-packages (from nbval->devito==3.4+873.gc57eec36->-r requirements.txt (line 3)) (4.4.0)\n",
      "Requirement already satisfied: nbformat in /venv/lib/python3.6/site-packages (from nbval->devito==3.4+873.gc57eec36->-r requirements.txt (line 3)) (4.4.0)\n",
      "Requirement already satisfied: jupyter-client in /venv/lib/python3.6/site-packages (from nbval->devito==3.4+873.gc57eec36->-r requirements.txt (line 3)) (5.2.4)\n",
      "Requirement already satisfied: pillow>=4.3.0 in /venv/lib/python3.6/site-packages (from scikit-image->devito==3.4+873.gc57eec36->-r requirements.txt (line 3)) (6.0.0)\n",
      "Requirement already satisfied: networkx>=2.0 in /venv/lib/python3.6/site-packages (from scikit-image->devito==3.4+873.gc57eec36->-r requirements.txt (line 3)) (2.3)\n",
      "Requirement already satisfied: matplotlib!=3.0.0,>=2.0.0 in /venv/lib/python3.6/site-packages (from scikit-image->devito==3.4+873.gc57eec36->-r requirements.txt (line 3)) (3.0.3)\n",
      "Requirement already satisfied: imageio>=2.0.1 in /venv/lib/python3.6/site-packages (from scikit-image->devito==3.4+873.gc57eec36->-r requirements.txt (line 3)) (2.5.0)\n",
      "Requirement already satisfied: PyWavelets>=0.4.0 in /venv/lib/python3.6/site-packages (from scikit-image->devito==3.4+873.gc57eec36->-r requirements.txt (line 3)) (1.0.3)\n",
      "Requirement already satisfied: requests>=2.7.9 in /venv/lib/python3.6/site-packages (from codecov->devito==3.4+873.gc57eec36->-r requirements.txt (line 3)) (2.21.0)\n",
      "Requirement already satisfied: pyyaml in /venv/lib/python3.6/site-packages (from distributed>=1.21.8->devito==3.4+873.gc57eec36->-r requirements.txt (line 3)) (5.1)\n",
      "Requirement already satisfied: cloudpickle>=0.2.2 in /venv/lib/python3.6/site-packages (from distributed>=1.21.8->devito==3.4+873.gc57eec36->-r requirements.txt (line 3)) (0.8.1)\n",
      "Requirement already satisfied: msgpack in /venv/lib/python3.6/site-packages (from distributed>=1.21.8->devito==3.4+873.gc57eec36->-r requirements.txt (line 3)) (0.6.1)\n",
      "Requirement already satisfied: tblib in /venv/lib/python3.6/site-packages (from distributed>=1.21.8->devito==3.4+873.gc57eec36->-r requirements.txt (line 3)) (1.3.2)\n",
      "Requirement already satisfied: toolz>=0.7.4 in /venv/lib/python3.6/site-packages (from distributed>=1.21.8->devito==3.4+873.gc57eec36->-r requirements.txt (line 3)) (0.9.0)\n",
      "Requirement already satisfied: zict>=0.1.3 in /venv/lib/python3.6/site-packages (from distributed>=1.21.8->devito==3.4+873.gc57eec36->-r requirements.txt (line 3)) (0.1.4)\n",
      "Requirement already satisfied: dask>=0.18.0 in /venv/lib/python3.6/site-packages (from distributed>=1.21.8->devito==3.4+873.gc57eec36->-r requirements.txt (line 3)) (1.2.0)\n",
      "Requirement already satisfied: tornado>=5 in /venv/lib/python3.6/site-packages (from distributed>=1.21.8->devito==3.4+873.gc57eec36->-r requirements.txt (line 3)) (6.0.2)\n",
      "Requirement already satisfied: sortedcontainers!=2.0.0,!=2.0.1 in /venv/lib/python3.6/site-packages (from distributed>=1.21.8->devito==3.4+873.gc57eec36->-r requirements.txt (line 3)) (2.1.0)\n"
     ]
    },
    {
     "name": "stdout",
     "output_type": "stream",
     "text": [
      "Requirement already satisfied: traitlets>=4.1.0 in /venv/lib/python3.6/site-packages (from ipykernel->nbval->devito==3.4+873.gc57eec36->-r requirements.txt (line 3)) (4.3.2)\n",
      "Requirement already satisfied: ipython>=5.0.0 in /venv/lib/python3.6/site-packages (from ipykernel->nbval->devito==3.4+873.gc57eec36->-r requirements.txt (line 3)) (7.4.0)\n",
      "Requirement already satisfied: attrs>=17.4.0 in /venv/lib/python3.6/site-packages (from pytest>=2.8->nbval->devito==3.4+873.gc57eec36->-r requirements.txt (line 3)) (19.1.0)\n",
      "Requirement already satisfied: more-itertools>=4.0.0; python_version > \"2.7\" in /venv/lib/python3.6/site-packages (from pytest>=2.8->nbval->devito==3.4+873.gc57eec36->-r requirements.txt (line 3)) (7.0.0)\n",
      "Requirement already satisfied: pluggy>=0.9 in /venv/lib/python3.6/site-packages (from pytest>=2.8->nbval->devito==3.4+873.gc57eec36->-r requirements.txt (line 3)) (0.9.0)\n",
      "Requirement already satisfied: py>=1.5.0 in /venv/lib/python3.6/site-packages (from pytest>=2.8->nbval->devito==3.4+873.gc57eec36->-r requirements.txt (line 3)) (1.8.0)\n",
      "Requirement already satisfied: setuptools in /venv/lib/python3.6/site-packages (from pytest>=2.8->nbval->devito==3.4+873.gc57eec36->-r requirements.txt (line 3)) (40.6.2)\n",
      "Requirement already satisfied: atomicwrites>=1.0 in /venv/lib/python3.6/site-packages (from pytest>=2.8->nbval->devito==3.4+873.gc57eec36->-r requirements.txt (line 3)) (1.3.0)\n",
      "Requirement already satisfied: jsonschema!=2.5.0,>=2.4 in /venv/lib/python3.6/site-packages (from nbformat->nbval->devito==3.4+873.gc57eec36->-r requirements.txt (line 3)) (3.0.1)\n",
      "Requirement already satisfied: jupyter-core in /venv/lib/python3.6/site-packages (from nbformat->nbval->devito==3.4+873.gc57eec36->-r requirements.txt (line 3)) (4.4.0)\n",
      "Requirement already satisfied: ipython-genutils in /venv/lib/python3.6/site-packages (from nbformat->nbval->devito==3.4+873.gc57eec36->-r requirements.txt (line 3)) (0.2.0)\n",
      "Requirement already satisfied: pyzmq>=13 in /venv/lib/python3.6/site-packages (from jupyter-client->nbval->devito==3.4+873.gc57eec36->-r requirements.txt (line 3)) (18.0.1)\n",
      "Requirement already satisfied: python-dateutil>=2.1 in /venv/lib/python3.6/site-packages (from jupyter-client->nbval->devito==3.4+873.gc57eec36->-r requirements.txt (line 3)) (2.8.0)\n",
      "Requirement already satisfied: cycler>=0.10 in /venv/lib/python3.6/site-packages (from matplotlib!=3.0.0,>=2.0.0->scikit-image->devito==3.4+873.gc57eec36->-r requirements.txt (line 3)) (0.10.0)\n",
      "Requirement already satisfied: pyparsing!=2.0.4,!=2.1.2,!=2.1.6,>=2.0.1 in /venv/lib/python3.6/site-packages (from matplotlib!=3.0.0,>=2.0.0->scikit-image->devito==3.4+873.gc57eec36->-r requirements.txt (line 3)) (2.4.0)\n",
      "Requirement already satisfied: kiwisolver>=1.0.1 in /venv/lib/python3.6/site-packages (from matplotlib!=3.0.0,>=2.0.0->scikit-image->devito==3.4+873.gc57eec36->-r requirements.txt (line 3)) (1.0.1)\n",
      "Requirement already satisfied: idna<2.9,>=2.5 in /venv/lib/python3.6/site-packages (from requests>=2.7.9->codecov->devito==3.4+873.gc57eec36->-r requirements.txt (line 3)) (2.8)\n",
      "Requirement already satisfied: certifi>=2017.4.17 in /venv/lib/python3.6/site-packages (from requests>=2.7.9->codecov->devito==3.4+873.gc57eec36->-r requirements.txt (line 3)) (2019.3.9)\n",
      "Requirement already satisfied: chardet<3.1.0,>=3.0.2 in /venv/lib/python3.6/site-packages (from requests>=2.7.9->codecov->devito==3.4+873.gc57eec36->-r requirements.txt (line 3)) (3.0.4)\n",
      "Requirement already satisfied: urllib3<1.25,>=1.21.1 in /venv/lib/python3.6/site-packages (from requests>=2.7.9->codecov->devito==3.4+873.gc57eec36->-r requirements.txt (line 3)) (1.24.1)\n",
      "Requirement already satisfied: heapdict in /venv/lib/python3.6/site-packages (from zict>=0.1.3->distributed>=1.21.8->devito==3.4+873.gc57eec36->-r requirements.txt (line 3)) (1.0.0)\n",
      "Requirement already satisfied: backcall in /venv/lib/python3.6/site-packages (from ipython>=5.0.0->ipykernel->nbval->devito==3.4+873.gc57eec36->-r requirements.txt (line 3)) (0.1.0)\n",
      "Requirement already satisfied: pygments in /venv/lib/python3.6/site-packages (from ipython>=5.0.0->ipykernel->nbval->devito==3.4+873.gc57eec36->-r requirements.txt (line 3)) (2.3.1)\n",
      "Requirement already satisfied: pexpect; sys_platform != \"win32\" in /venv/lib/python3.6/site-packages (from ipython>=5.0.0->ipykernel->nbval->devito==3.4+873.gc57eec36->-r requirements.txt (line 3)) (4.7.0)\n",
      "Requirement already satisfied: prompt-toolkit<2.1.0,>=2.0.0 in /venv/lib/python3.6/site-packages (from ipython>=5.0.0->ipykernel->nbval->devito==3.4+873.gc57eec36->-r requirements.txt (line 3)) (2.0.9)\n",
      "Requirement already satisfied: pickleshare in /venv/lib/python3.6/site-packages (from ipython>=5.0.0->ipykernel->nbval->devito==3.4+873.gc57eec36->-r requirements.txt (line 3)) (0.7.5)\n",
      "Requirement already satisfied: pyrsistent>=0.14.0 in /venv/lib/python3.6/site-packages (from jsonschema!=2.5.0,>=2.4->nbformat->nbval->devito==3.4+873.gc57eec36->-r requirements.txt (line 3)) (0.14.11)\n",
      "Requirement already satisfied: ptyprocess>=0.5 in /venv/lib/python3.6/site-packages (from pexpect; sys_platform != \"win32\"->ipython>=5.0.0->ipykernel->nbval->devito==3.4+873.gc57eec36->-r requirements.txt (line 3)) (0.6.0)\n",
      "Requirement already satisfied: wcwidth in /venv/lib/python3.6/site-packages (from prompt-toolkit<2.1.0,>=2.0.0->ipython>=5.0.0->ipykernel->nbval->devito==3.4+873.gc57eec36->-r requirements.txt (line 3)) (0.1.7)\n",
      "Installing collected packages: devito\n",
      "  Running setup.py install for devito ... \u001b[?25ldone\n",
      "\u001b[?25hSuccessfully installed devito-3.4+873.gc57eec36\n"
     ]
    }
   ],
   "source": [
    "!pip install -r requirements.txt"
   ]
  },
  {
   "cell_type": "markdown",
   "metadata": {},
   "source": [
    "Once the above setup has finished, we should run a quick sanity check that we have everything that we need. The following cell should simply complete without any errors."
   ]
  },
  {
   "cell_type": "code",
   "execution_count": 1,
   "metadata": {},
   "outputs": [],
   "source": [
    "from devito import *\n",
    "from examples.seismic import Model"
   ]
  },
  {
   "cell_type": "markdown",
   "metadata": {},
   "source": [
    "For one section of this tutorial we will have a quick look at the stencil compiler YASK. To verify YASK works smoothly you can run:"
   ]
  },
  {
   "cell_type": "code",
   "execution_count": 2,
   "metadata": {},
   "outputs": [
    {
     "ename": "ModuleNotFoundError",
     "evalue": "No module named 'yask'",
     "output_type": "error",
     "traceback": [
      "\u001b[0;31m---------------------------------------------------------------------------\u001b[0m",
      "\u001b[0;31mModuleNotFoundError\u001b[0m                       Traceback (most recent call last)",
      "\u001b[0;32m<ipython-input-2-fcdade04d042>\u001b[0m in \u001b[0;36m<module>\u001b[0;34m\u001b[0m\n\u001b[0;32m----> 1\u001b[0;31m \u001b[0;32mimport\u001b[0m \u001b[0myask\u001b[0m\u001b[0;34m\u001b[0m\u001b[0;34m\u001b[0m\u001b[0m\n\u001b[0m",
      "\u001b[0;31mModuleNotFoundError\u001b[0m: No module named 'yask'"
     ]
    }
   ],
   "source": [
    "import yask"
   ]
  },
  {
   "cell_type": "markdown",
   "metadata": {
    "collapsed": true
   },
   "source": [
    "## Instructors and helpers\n",
    "\n",
    "This tutorial will be given by:\n",
    "\n",
    "* **Navjot Kukreja** \n",
    "* **Lucas Cavalcante**\n",
    "TODO"
   ]
  },
  {
   "cell_type": "markdown",
   "metadata": {},
   "source": [
    "## Learning objectives\n",
    "\n",
    "* How to use [SymPy](http://www.sympy.org) and [Devito](http://www.devitoproject.org) to create simple finite difference expressions from governing equations\n",
    "* Creating Devito operators to perform highly optimized stencil computations from the symbolic kernel definitions\n",
    "* Create basic seismic modelling operator to model wave propagation for a seismic survey\n",
    "* Implement a functional FWI algorithm usign high-level components from [Devito](http://www.devitoproject.org) and `scipy.optimize`\n",
    "* Gain an overview of the various performance optimization techniques used in Devito operators\n",
    "\n",
    "TODO"
   ]
  },
  {
   "cell_type": "markdown",
   "metadata": {},
   "source": [
    "## Outline\n",
    "\n",
    "TODO\n",
    "\n",
    "* [Session 1: **Introduction to Devito**](01_introduction.ipynb)\n",
    "  * Functions and derivatives **[5min]**\n",
    "  * Exercise: A linear convection operator **[10min]**\n",
    "  * Second derivatives and high-order stencils **[5min]**\n",
    "  * Exercise 2: Making a wave! **[10min]**\n",
    "\n",
    "* Session 2: **Seismic Imaging**\n",
    "    * [Full Waveform Inversion (FWI) with Devito](02a_fwi.ipynb)\n",
    "    * [Integration with Scipy.optimize](02b_scipy_optimize.ipynb)\n",
    "    * [Distributed processing with Dask](02c_dask.ipynb)\n",
    "    * [Advanced imaging with Skimage](02d_skimage_tv.ipynb)\n",
    " \n",
    "\n",
    "* Session 3: [**Performance Optimization and Analysis**](03_performance.ipynb)\n",
    "    * Introduction to performance optimization in Devito **[2min]**\n",
    "    * Setup for shared-memory parallelism **[5min]**\n",
    "    * Devito Symbolic Engine (DSE) **[5min]**\n",
    "    * Devito Loop Engine (DLE) **[5min]**\n",
    "    * Exercise 4: performance analysis of a TTI forward operator **[8min]**\n",
    "    * A sneak peek at the YASK backend **[5min]**"
   ]
  },
  {
   "cell_type": "markdown",
   "metadata": {},
   "source": [
    "### Bonus Material and further reading\n",
    "\n",
    "TODO\n",
    "\n",
    "* [Opesci project webpage](http://www.opesci.org/)\n",
    "  * [Devito documentation](http://www.opesci.org/devito/)\n",
    "* More detailed [introductory tutorials](http://www.opesci.org/devito/tutorials.html), covering the following topics:\n",
    "  * Introduction to Devito with CFD\n",
    "  * Introdcution to seismic imaging\n",
    "\n",
    "### References\n",
    "\n",
    "* M. Lange, N. Kukreja, F. Luporini, M. Louboutin, C. Yount, J. Hückelheim and G. Gorman. Optimised finite difference computation from symbolic equations. Accepted for publication in Proceedings of the 15th Python in Science Conference, 2017. [[doi:10.25080/shinma-7f4c6e7-00d](http://conference.scipy.org/proceedings/scipy2017/michael_lange.html)] [[arxiv](http://arxiv.org/abs/1707.03776)]\n",
    "\n",
    "* M. Louboutin, M. Lange, N. Kukreja, F. Herrmann, and G. Gorman. _Performance\n",
    "prediction of finite-difference solvers for different computer architectures_. Accepted\n",
    "for publication in Computers & Geosciences, 2016, [doi:10.1016/j.cageo.2017.04.014](http://www.sciencedirect.com/science/article/pii/S0098300416304034)\n"
   ]
  },
  {
   "cell_type": "markdown",
   "metadata": {},
   "source": [
    "<sup>This notebook is part of the tutorial \"Optimised Symbolic Finite Difference Computation with Devito\" presented at University of Sao Paulo April 2019.</sup>"
   ]
  },
  {
   "cell_type": "code",
   "execution_count": null,
   "metadata": {},
   "outputs": [],
   "source": []
  }
 ],
 "metadata": {
  "kernelspec": {
   "display_name": "Python 3",
   "language": "python",
   "name": "python3"
  },
  "language_info": {
   "codemirror_mode": {
    "name": "ipython",
    "version": 3
   },
   "file_extension": ".py",
   "mimetype": "text/x-python",
   "name": "python",
   "nbconvert_exporter": "python",
   "pygments_lexer": "ipython3",
   "version": "3.6.8"
  },
  "widgets": {
   "state": {},
   "version": "1.1.2"
  }
 },
 "nbformat": 4,
 "nbformat_minor": 2
}
